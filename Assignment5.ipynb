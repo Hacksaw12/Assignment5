{
 "cells": [
  {
   "cell_type": "markdown",
   "id": "c484ff70",
   "metadata": {},
   "source": [
    "# 1. What does an empty dictionary’s code look like?\n",
    "Ans:>dict={}.\n"
   ]
  },
  {
   "cell_type": "markdown",
   "id": "04a41c9e",
   "metadata": {},
   "source": [
    "# 2. What is the value of a dictionary value with the key ‘foo’ and the value 42?\n",
    "Ans:>dict={“foo”:42},  foo:42.\n"
   ]
  },
  {
   "cell_type": "markdown",
   "id": "477e3a0b",
   "metadata": {},
   "source": [
    "# 3. What is the most significant distinction between a dictionary and a list?\n",
    "Ans:> A list is an ordered sequence of objects, whereas dictionaries are unordered sets. However, the main difference is that items in dictionaries are accessed via keys and not via their position. ... Any key of the dictionary is associated (or mapped) to a value. The values of a dictionary can be any type of Python data.\n"
   ]
  },
  {
   "cell_type": "markdown",
   "id": "fab85556",
   "metadata": {},
   "source": [
    "# 4. What happens if you try to access spam[‘foo’] if spam is {‘bar’: 100}?\n",
    "Ans:> NameError: name 'foo' is not defined.\n"
   ]
  },
  {
   "cell_type": "markdown",
   "id": "34e2c529",
   "metadata": {},
   "source": [
    "# 5. If a dictionary is stored in spam, what is the difference between the expressions ‘cat’ in spam and\n",
    "‘cat’ in spam.keys()?\n",
    "Ans:> There is no difference. The in operator checks whether a value exists as a key in the dictionary. 'cat' in spam checks whether there is a 'cat' key in the dictionary, while 'cat' in spam. values() checks whether there is a value 'cat' for one of the keys in spam.\n"
   ]
  },
  {
   "cell_type": "markdown",
   "id": "eec997a0",
   "metadata": {},
   "source": [
    "# 6. If a dictionary is stored in spam, what is the difference between the expressions ‘cat’ in spam and\n",
    "‘cat’ in spam.values()?\n",
    "Ans:> There is no difference. The in operator checks whether a value exists as a key in the dictionary. 'cat' in spam checks whether there is a 'cat' key in the dictionary, while 'cat' in spam. values() checks whether there is a value 'cat' for one of the keys in spam\n",
    "\n"
   ]
  },
  {
   "cell_type": "markdown",
   "id": "b23e194b",
   "metadata": {},
   "source": [
    "# 7. What is a shortcut for the following code?\n",
    "if ‘color’ not in spam:\n",
    "spam[‘color’] = ‘black’.\n",
    "Ans:> in python for there are no shortcuts or attributes.\n"
   ]
  },
  {
   "cell_type": "markdown",
   "id": "7c04d372",
   "metadata": {},
   "source": [
    "# 8. How do you &quot;pretty print&quot; dictionary values using which module and function?\n",
    "Ans:> Use pprint() to Pretty Print a Dictionary in Python\n",
    "This module also supports pretty-printing dictionary. Within the pprint module there is a function with the same name pprint() , which is the function used to pretty-print the given string or object.\n"
   ]
  },
  {
   "cell_type": "code",
   "execution_count": null,
   "id": "3b168ce7",
   "metadata": {},
   "outputs": [],
   "source": []
  },
  {
   "cell_type": "code",
   "execution_count": null,
   "id": "eed3753e",
   "metadata": {},
   "outputs": [],
   "source": []
  },
  {
   "cell_type": "code",
   "execution_count": null,
   "id": "c868928c",
   "metadata": {},
   "outputs": [],
   "source": []
  },
  {
   "cell_type": "code",
   "execution_count": null,
   "id": "365c5146",
   "metadata": {},
   "outputs": [],
   "source": []
  }
 ],
 "metadata": {
  "kernelspec": {
   "display_name": "Python 3",
   "language": "python",
   "name": "python3"
  },
  "language_info": {
   "codemirror_mode": {
    "name": "ipython",
    "version": 3
   },
   "file_extension": ".py",
   "mimetype": "text/x-python",
   "name": "python",
   "nbconvert_exporter": "python",
   "pygments_lexer": "ipython3",
   "version": "3.8.8"
  }
 },
 "nbformat": 4,
 "nbformat_minor": 5
}
